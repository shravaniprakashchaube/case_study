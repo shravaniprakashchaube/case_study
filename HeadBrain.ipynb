{
  "nbformat": 4,
  "nbformat_minor": 0,
  "metadata": {
    "colab": {
      "provenance": [],
      "authorship_tag": "ABX9TyPshGEKX7YVsRkn56RNujeS",
      "include_colab_link": true
    },
    "kernelspec": {
      "name": "python3",
      "display_name": "Python 3"
    },
    "language_info": {
      "name": "python"
    }
  },
  "cells": [
    {
      "cell_type": "markdown",
      "metadata": {
        "id": "view-in-github",
        "colab_type": "text"
      },
      "source": [
        "<a href=\"https://colab.research.google.com/github/shravaniprakashchaube/case_study/blob/main/HeadBrain.ipynb\" target=\"_parent\"><img src=\"https://colab.research.google.com/assets/colab-badge.svg\" alt=\"Open In Colab\"/></a>"
      ]
    },
    {
      "cell_type": "code",
      "execution_count": 9,
      "metadata": {
        "colab": {
          "base_uri": "https://localhost:8080/"
        },
        "id": "HrdfrK4DudxA",
        "outputId": "0f69d624-4f12-4361-8d7a-4147b75f6067"
      },
      "outputs": [
        {
          "output_type": "stream",
          "name": "stdout",
          "text": [
            "supervised machine learning\n",
            "Linear Regression on head and brain size data set\n",
            "size of data set  (237, 4)\n",
            "0.639311719957\n"
          ]
        }
      ],
      "source": [
        "#classifier - linear regression\n",
        "#dataset - Head brain dataset\n",
        "#features - gender ,age,head size ,brain weight\n",
        "#labels -\n",
        "#training datasets - 237\n",
        "#consider below application which uses linear regression algorithm from skit learn library to train above datasets\n",
        "\n",
        "import pandas as pd\n",
        "from sklearn.linear_model import LinearRegression\n",
        "from sklearn.metrics import mean_squared_error\n",
        "def HeadBrainPredictor():\n",
        "\n",
        "\n",
        "    path = \"/content/HeadBrain.csv.csv\"\n",
        "    data = pd.read_csv(path)\n",
        "    print(\"size of data set \",data.shape)\n",
        "    X = data['Head Size(cm^3)'].values\n",
        "    Y = data['Brain Weight(grams)'].values\n",
        "    X = X.reshape((-1,1))\n",
        "    n= len(X)\n",
        "    reg = LinearRegression()\n",
        "    reg = reg.fit(X,Y)\n",
        "    Y_pred = reg.predict(X)\n",
        "    r2 = reg.score(X,Y)\n",
        "    print(r2)\n",
        "def main():\n",
        "    print(\"supervised machine learning\")\n",
        "    print(\"Linear Regression on head and brain size data set\")\n",
        "    HeadBrainPredictor()\n",
        "if __name__ == \"__main__\":\n",
        "    main()\n",
        "\n"
      ]
    }
  ]
}