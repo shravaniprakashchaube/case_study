{
  "nbformat": 4,
  "nbformat_minor": 0,
  "metadata": {
    "colab": {
      "provenance": [],
      "authorship_tag": "ABX9TyPP1UpTCm18WepnQ5wA2bTD",
      "include_colab_link": true
    },
    "kernelspec": {
      "name": "python3",
      "display_name": "Python 3"
    },
    "language_info": {
      "name": "python"
    }
  },
  "cells": [
    {
      "cell_type": "markdown",
      "metadata": {
        "id": "view-in-github",
        "colab_type": "text"
      },
      "source": [
        "<a href=\"https://colab.research.google.com/github/shravaniprakashchaube/case_study/blob/main/titanic_casestudy.ipynb\" target=\"_parent\"><img src=\"https://colab.research.google.com/assets/colab-badge.svg\" alt=\"Open In Colab\"/></a>"
      ]
    },
    {
      "cell_type": "code",
      "execution_count": 3,
      "metadata": {
        "colab": {
          "base_uri": "https://localhost:8080/"
        },
        "id": "C8WMGrParn2L",
        "outputId": "6e69d984-4230-4b66-cbcb-546cbce8a8be"
      },
      "outputs": [
        {
          "output_type": "stream",
          "name": "stdout",
          "text": [
            "[1 0 0 1 0 0 0 0 0 0 0 1 0 0 1 0 0 0 1 1 0 0 1 0 0 0 0 0 0 1 1 0 0 0 1 0 0\n",
            " 0 0 1 0 0 0 0 0 0 0 0 1 0 0 0 0 0 0 0 1 0 0 0 0 0 0 0 1 1 1 0 0 0 1 0 1 0\n",
            " 0 1 0 0 1 0 0 1 1 0 0 1 0 0 1 0 1 1 0 0 0 0 0 1 0 1 0 1 0 1 0 0 0 1 0 1 0\n",
            " 0 0 1 0 1 1 0 0 1 1 0 1 0 0 1 0 0 0 0 0 1 1 1 0 1 1 1 0 0 0 0 1 0 0 1 0 1\n",
            " 0 0 1 1 1 1 0 0 1 0 1 0 1 0 0 0 1 0 0 0 0 1 0 0 0 0 1 1 0 1 0]\n",
            "0.8324022346368715\n",
            "306\n"
          ]
        }
      ],
      "source": [
        "import pandas as pd\n",
        "import seaborn as sns\n",
        "from sklearn.linear_model import LogisticRegression\n",
        "from sklearn.model_selection import train_test_split\n",
        "from sklearn.metrics import accuracy_score\n",
        "\n",
        "#Data reading\n",
        "df=pd.read_csv(\"/content/titanic.csv\")\n",
        "\n",
        "#Data preprocessing\n",
        "mean=df['Age'].mean()\n",
        "\n",
        "df['Age'].fillna(mean,inplace=True)\n",
        "\n",
        "\n",
        "Pclass=pd.get_dummies(df['Pclass'])\n",
        "Sex=pd.get_dummies(df['Sex'])\n",
        "Age=pd.get_dummies(df['Age'])\n",
        "\n",
        "df=pd.concat([df,Pclass,Sex,Age],axis=1)\n",
        "df.drop(['PassengerId','Sex','Age','Pclass','Name','Ticket','Cabin','SibSp','Parch','Fare','Embarked'],axis=1,inplace=True)\n",
        "\n",
        "\n",
        "\n",
        "x=df.drop('Survived',axis=1)\n",
        "y=df['Survived']\n",
        "x.columns = x.columns.astype(str)\n",
        "\n",
        "#Model\n",
        "x_train,x_test,y_train,y_test=train_test_split(x, y, test_size=0.2, random_state=6)\n",
        "reg=LogisticRegression()\n",
        "reg.fit(x_train,y_train)\n",
        "pred=reg.predict(x_test)\n",
        "print(pred)\n",
        "\n",
        "#Accuracy\n",
        "print(accuracy_score(y_test,pred))\n",
        "predictions = reg.predict(x)  # Make predictions on the entire dataset\n",
        "\n",
        "# Count the number of passengers predicted to survive (where prediction is 1)\n",
        "survived_count = sum(predictions == 1)\n",
        "print(survived_count)"
      ]
    }
  ]
}