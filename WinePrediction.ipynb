{
  "nbformat": 4,
  "nbformat_minor": 0,
  "metadata": {
    "colab": {
      "provenance": [],
      "authorship_tag": "ABX9TyNOuiy57ZrFal3ezuq8hMIZ",
      "include_colab_link": true
    },
    "kernelspec": {
      "name": "python3",
      "display_name": "Python 3"
    },
    "language_info": {
      "name": "python"
    }
  },
  "cells": [
    {
      "cell_type": "markdown",
      "metadata": {
        "id": "view-in-github",
        "colab_type": "text"
      },
      "source": [
        "<a href=\"https://colab.research.google.com/github/shravaniprakashchaube/case_study/blob/main/WinePrediction.ipynb\" target=\"_parent\"><img src=\"https://colab.research.google.com/assets/colab-badge.svg\" alt=\"Open In Colab\"/></a>"
      ]
    },
    {
      "cell_type": "code",
      "execution_count": null,
      "metadata": {
        "id": "qOda_yCqpvq4"
      },
      "outputs": [],
      "source": [
        "# wine predictor using K Nearest Neighbour algorithm\n",
        "# there is a data set of wine which classify the wines according to its contents into three classes\n",
        "\"\"\" classifier - knearest neighbour\n",
        "    dataset - wine predictor dataset\n",
        "    Features - Alcohol,\n",
        "               Malic acid,\n",
        "               Ash,\n",
        "               Alcalinity of ash,\n",
        "               Magnesium,\n",
        "               Total Phenols,\n",
        "               Flavanoids,\n",
        "               Nonflavanoid phenols,\n",
        "               Proanthocyanins,\n",
        "               color intensity,\n",
        "               Hue,\n",
        "               OD280,OD315 of diluted wines,\n",
        "               Proline\n",
        "    Labels - class1,class2,class3\n",
        "    Training Dataset - 70 % of 178 entries\n",
        "    Testing Dataset - 30 % of 178 entries         \"\"\""
      ]
    },
    {
      "cell_type": "code",
      "source": [
        "\n",
        "from sklearn import metrics\n",
        "from sklearn import datasets\n",
        "from sklearn.neighbors import KNeighborsClassifier\n",
        "from sklearn.model_selection import train_test_split\n",
        "\n",
        "def WinePredictor():\n",
        "    Wine = datasets.load_wine() #load dataset\n",
        "    # print the names of the features\n",
        "    print(Wine.feature_names)\n",
        "    #print the label species(class_0,class_1,class_2)\n",
        "    print(Wine.target_names)\n",
        "    #print wine data\n",
        "    print(Wine.data[0:5])\n",
        "    # print the wine labels (0:class_0,1:class_1,2:class_3)\n",
        "    print(Wine.target)\n",
        "    #split datasets into training set and test set\n",
        "    x_train ,x_test,y_train,y_test = train_test_split(Wine.data,Wine.target,test_size = 0.3)\n",
        "    #create KNN classifier\n",
        "    knn = KNeighborsClassifier(n_neighbors= 3)\n",
        "    #train the model using the training sets\n",
        "    knn.fit(x_train,y_train)\n",
        "    #predict the response for test dataset\n",
        "    y_pred = knn.predict(x_test)\n",
        "    #model Accuracy,how often is the classifier correct?\n",
        "    print(\"Accuracy\",metrics.accuracy_score(y_test,y_pred))\n",
        "def main():\n",
        "    print(\"wine predictor appllication using k nearest knighbor algorithm\")\n",
        "    WinePredictor()\n",
        "\n",
        "if __name__ == \"__main__\":\n",
        "    main()\n",
        "\n",
        "\n"
      ],
      "metadata": {
        "colab": {
          "base_uri": "https://localhost:8080/"
        },
        "id": "FI_GkxNoqNHb",
        "outputId": "bb04de40-19b2-4ddc-c85c-85c3c4ca1282"
      },
      "execution_count": 3,
      "outputs": [
        {
          "output_type": "stream",
          "name": "stdout",
          "text": [
            "wine predictor appllication using k nearest knighbor algorithm\n",
            "['alcohol', 'malic_acid', 'ash', 'alcalinity_of_ash', 'magnesium', 'total_phenols', 'flavanoids', 'nonflavanoid_phenols', 'proanthocyanins', 'color_intensity', 'hue', 'od280/od315_of_diluted_wines', 'proline']\n",
            "['class_0' 'class_1' 'class_2']\n",
            "[[1.423e+01 1.710e+00 2.430e+00 1.560e+01 1.270e+02 2.800e+00 3.060e+00\n",
            "  2.800e-01 2.290e+00 5.640e+00 1.040e+00 3.920e+00 1.065e+03]\n",
            " [1.320e+01 1.780e+00 2.140e+00 1.120e+01 1.000e+02 2.650e+00 2.760e+00\n",
            "  2.600e-01 1.280e+00 4.380e+00 1.050e+00 3.400e+00 1.050e+03]\n",
            " [1.316e+01 2.360e+00 2.670e+00 1.860e+01 1.010e+02 2.800e+00 3.240e+00\n",
            "  3.000e-01 2.810e+00 5.680e+00 1.030e+00 3.170e+00 1.185e+03]\n",
            " [1.437e+01 1.950e+00 2.500e+00 1.680e+01 1.130e+02 3.850e+00 3.490e+00\n",
            "  2.400e-01 2.180e+00 7.800e+00 8.600e-01 3.450e+00 1.480e+03]\n",
            " [1.324e+01 2.590e+00 2.870e+00 2.100e+01 1.180e+02 2.800e+00 2.690e+00\n",
            "  3.900e-01 1.820e+00 4.320e+00 1.040e+00 2.930e+00 7.350e+02]]\n",
            "[0 0 0 0 0 0 0 0 0 0 0 0 0 0 0 0 0 0 0 0 0 0 0 0 0 0 0 0 0 0 0 0 0 0 0 0 0\n",
            " 0 0 0 0 0 0 0 0 0 0 0 0 0 0 0 0 0 0 0 0 0 0 1 1 1 1 1 1 1 1 1 1 1 1 1 1 1\n",
            " 1 1 1 1 1 1 1 1 1 1 1 1 1 1 1 1 1 1 1 1 1 1 1 1 1 1 1 1 1 1 1 1 1 1 1 1 1\n",
            " 1 1 1 1 1 1 1 1 1 1 1 1 1 1 1 1 1 1 1 2 2 2 2 2 2 2 2 2 2 2 2 2 2 2 2 2 2\n",
            " 2 2 2 2 2 2 2 2 2 2 2 2 2 2 2 2 2 2 2 2 2 2 2 2 2 2 2 2 2 2]\n",
            "Accuracy 0.7037037037037037\n"
          ]
        }
      ]
    }
  ]
}